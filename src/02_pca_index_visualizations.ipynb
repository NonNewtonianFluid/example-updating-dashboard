{
 "cells": [
  {
   "cell_type": "markdown",
   "metadata": {},
   "source": [
    "# PCA Index Interactive Visualization Examples"
   ]
  },
  {
   "cell_type": "code",
   "execution_count": null,
   "metadata": {},
   "outputs": [],
   "source": [
    "import plotly.express as px\n",
    "\n",
    "import config\n",
    "import load_fred\n",
    "import pca_index\n",
    "\n",
    "DATA_DIR = config.DATA_DIR"
   ]
  },
  {
   "cell_type": "code",
   "execution_count": null,
   "metadata": {},
   "outputs": [],
   "source": [
    "df = load_fred.load_fred(data_dir=DATA_DIR)\n",
    "dfn = pca_index.transform_series(df)"
   ]
  },
  {
   "cell_type": "code",
   "execution_count": null,
   "metadata": {},
   "outputs": [],
   "source": [
    "print(\"Hello world\")"
   ]
  },
  {
   "cell_type": "code",
   "execution_count": null,
   "metadata": {},
   "outputs": [],
   "source": [
    "## Visualize Principal Component 1\n",
    "pc1, loadings = pca_index.pca(dfn, module=\"scikitlearn\")\n",
    "import matplotlib.pyplot as plt\n",
    "import numpy as np\n",
    "\n",
    "# Generating random data for a linear regression model\n",
    "np.random.seed(0)  # Setting a random seed for reproducibility\n",
    "x = 2 * np.random.rand(100, 1)  # Random values for x\n",
    "y = 4 + 3 * x + np.random.randn(100, 1)  # Generating y values as a linear function of x plus some noise\n",
    "\n",
    "# Plotting the data\n",
    "plt.figure(figsize=(8, 6))\n",
    "plt.scatter(x, y)  # Scatter plot of the data points\n",
    "plt.title(\"Random Linear Regression Model Data\")  # Adding a title\n",
    "plt.xlabel(\"X\")  # Label for the x-axis\n",
    "plt.ylabel(\"Y\")  # Label for the y-axis\n",
    "plt.grid(True)  # Adding a grid for better visualization\n",
    "plt.show()  # Displaying the plot\n"
   ]
  },
  {
   "cell_type": "code",
   "execution_count": null,
   "metadata": {},
   "outputs": [],
   "source": [
    "# Simple version\n",
    "fig = px.line(pc1)\n",
    "fig.show()"
   ]
  },
  {
   "cell_type": "code",
   "execution_count": null,
   "metadata": {},
   "outputs": [],
   "source": [
    "# Using slider and quick views\n",
    "pca_index.pc1_line_plot(pc1)"
   ]
  },
  {
   "cell_type": "code",
   "execution_count": null,
   "metadata": {},
   "outputs": [],
   "source": [
    "## Visualize normalized and raw series\n",
    "dfn.plot(subplots=True, figsize=(10, 10));\n"
   ]
  },
  {
   "cell_type": "code",
   "execution_count": null,
   "metadata": {},
   "outputs": [],
   "source": [
    "fig = px.line(dfn, facet_col=\"variable\", facet_col_wrap=1)\n",
    "fig.update_yaxes(matches=None)\n",
    "fig.show()\n"
   ]
  },
  {
   "cell_type": "code",
   "execution_count": null,
   "metadata": {},
   "outputs": [],
   "source": [
    "pca_index.plot_unnormalized_series(df)"
   ]
  },
  {
   "cell_type": "code",
   "execution_count": null,
   "metadata": {},
   "outputs": [],
   "source": [
    "pca_index.plot_normalized_series(dfn)"
   ]
  },
  {
   "cell_type": "code",
   "execution_count": null,
   "metadata": {},
   "outputs": [],
   "source": []
  }
 ],
 "metadata": {
  "language_info": {
   "name": "python"
  }
 },
 "nbformat": 4,
 "nbformat_minor": 2
}
